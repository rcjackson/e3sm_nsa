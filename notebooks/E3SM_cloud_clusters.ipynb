{
 "cells": [
  {
   "cell_type": "code",
   "execution_count": 1,
   "metadata": {},
   "outputs": [],
   "source": [
    "from matplotlib import use \n",
    "use('agg')\n",
    "import xarray as xr\n",
    "import numpy as np\n",
    "import matplotlib.pyplot as plt\n",
    "import pandas as pd\n",
    "import cftime\n",
    "\n",
    "from scipy.interpolate import interp1d\n",
    "%matplotlib inline"
   ]
  },
  {
   "cell_type": "code",
   "execution_count": 5,
   "metadata": {},
   "outputs": [],
   "source": [
    "e3sm_path = '/lcrc/group/earthscience/rjackson/e3sm_nsa/data/e3sm_data/v2_CTL.ne30pg2_15yrs.*'\n",
    "ps_ds_path = '/lcrc/group/earthscience/rjackson/e3sm_nsa/data/e3sm_data/PS*.nc'\n",
    "nsa_data_path = '/lcrc/group/earthscience/rjackson/e3sm_nsa/notebooks/e3sm_kmeans1.nc'"
   ]
  },
  {
   "cell_type": "code",
   "execution_count": 33,
   "metadata": {},
   "outputs": [
    {
     "data": {
      "text/plain": [
       "array(73.17138011)"
      ]
     },
     "execution_count": 33,
     "metadata": {},
     "output_type": "execute_result"
    }
   ],
   "source": [
    " e3sm_avgs[\"heights\"].max().values"
   ]
  },
  {
   "cell_type": "code",
   "execution_count": 6,
   "metadata": {},
   "outputs": [],
   "source": [
    "# Load data\n",
    "nsa_cluster = xr.open_dataset(nsa_data_path)\n",
    "e3sm_avgs = xr.open_mfdataset(e3sm_path + '*.nc')\n",
    "ps_ds = xr.open_mfdataset(ps_ds_path)\n",
    "Rd = 287.057\n",
    "g0 = 9.80665\n",
    "e3sm_avgs[\"P\"] = e3sm_avgs[\"hyam\"] * e3sm_avgs[\"P0\"] + e3sm_avgs[\"hybm\"] * ps_ds[\"PS\"]\n",
    "e3sm_avgs[\"heights\"] = Rd * e3sm_avgs[\"T\"] * (-np.log(e3sm_avgs[\"P\"]) + np.log(ps_ds[\"PS\"])) / g0 * 1e-3\n",
    "print(e3sm_avgs)\n",
    "rho = e3sm_avgs[\"P\"] / (Rd * e3sm_avgs[\"T\"])\n",
    "content_conversion_factor = rho * 1e3"
   ]
  },
  {
   "cell_type": "code",
   "execution_count": 4,
   "metadata": {},
   "outputs": [],
   "source": [
    "# Reindex cluster data to e3sm statistics\n",
    "tolerance = np.timedelta64(1, 'D') / np.timedelta64(1, 'ns')\n",
    "nsa_cluster = nsa_cluster.reindex(time=e3sm_avgs.time, method='nearest', tolerance=tolerance)"
   ]
  },
  {
   "cell_type": "code",
   "execution_count": 28,
   "metadata": {},
   "outputs": [],
   "source": [
    "e3sm_avgs[\"cluster\"] = nsa_cluster[\"class\"]\n",
    "heights = np.arange(0, 10., 0.01)"
   ]
  },
  {
   "cell_type": "code",
   "execution_count": 6,
   "metadata": {},
   "outputs": [],
   "source": [
    "e3sm_avgs[\"CLOUD_FILTER\"] = e3sm_avgs[\"CLOUD\"].where(e3sm_avgs[\"CLOUD\"] > 0.01)\n",
    "LWC_array = e3sm_avgs[\"CLDLIQ\"].values / e3sm_avgs[\"CLOUD_FILTER\"].values * content_conversion_factor\n",
    "IWC_array = e3sm_avgs[\"CLDICE\"].values / e3sm_avgs[\"CLOUD_FILTER\"].values * content_conversion_factor\n",
    "LWC_array += e3sm_avgs[\"RAINQM\"].values * content_conversion_factor\n",
    "IWC_array += e3sm_avgs[\"SNOWQM\"].values * content_conversion_factor\n",
    "LWC_array = np.where(np.isfinite(LWC_array), LWC_array, 0)\n",
    "IWC_array = np.where(np.isfinite(IWC_array), IWC_array, 0)"
   ]
  },
  {
   "cell_type": "code",
   "execution_count": 34,
   "metadata": {},
   "outputs": [
    {
     "name": "stdout",
     "output_type": "stream",
     "text": [
      "0/3981\n",
      "100/3981\n",
      "200/3981\n",
      "300/3981\n",
      "400/3981\n",
      "500/3981\n",
      "600/3981\n",
      "700/3981\n",
      "800/3981\n",
      "900/3981\n",
      "1000/3981\n",
      "1100/3981\n",
      "1200/3981\n",
      "1300/3981\n",
      "1400/3981\n",
      "1500/3981\n",
      "1600/3981\n",
      "1700/3981\n",
      "1800/3981\n",
      "1900/3981\n",
      "2000/3981\n",
      "2100/3981\n",
      "2200/3981\n",
      "2300/3981\n",
      "2400/3981\n",
      "2500/3981\n",
      "2600/3981\n",
      "2700/3981\n",
      "2800/3981\n",
      "2900/3981\n",
      "3000/3981\n",
      "3100/3981\n",
      "3200/3981\n",
      "3300/3981\n",
      "3400/3981\n",
      "3500/3981\n",
      "3600/3981\n",
      "3700/3981\n",
      "3800/3981\n",
      "3900/3981\n"
     ]
    }
   ],
   "source": [
    "clear_pct = 1 - e3sm_avgs[\"CLOUD\"].values\n",
    "height = e3sm_avgs[\"heights\"].values\n",
    "\n",
    "LWC_array_interp = np.zeros((LWC_array.shape[0], len(heights)))\n",
    "IWC_array_interp = np.zeros((LWC_array.shape[0], len(heights)))\n",
    "clear_array_interp = np.zeros((LWC_array.shape[0], len(heights)))\n",
    "for i in range(LWC_array.shape[0]):\n",
    "    if i % 100 == 0:\n",
    "        print('%d/%d' % (i, LWC_array.shape[0]))\n",
    "    LWC = interp1d(height[i, :], LWC_array[i, :], fill_value=\"extrapolate\")\n",
    "    IWC = interp1d(height[i, :], IWC_array[i, :], fill_value=\"extrapolate\")\n",
    "    clear = interp1d(height[i, :], clear_pct[i, :], fill_value=\"extrapolate\")\n",
    "    LWC_array_interp[i, :] = LWC(heights)\n",
    "    IWC_array_interp[i, :] = IWC(heights)\n",
    "    clear_array_interp[i, :] = clear(heights)"
   ]
  },
  {
   "cell_type": "code",
   "execution_count": 26,
   "metadata": {},
   "outputs": [],
   "source": [
    "e3sm_avgs[\"Avg_Retrieved_LWC_hybrid\"] = xr.DataArray(\n",
    "    data=LWC_array,\n",
    "    dims=[\"time\", \"lev\"],\n",
    "    coords={\"time\": e3sm_avgs.time.values, \"lev\": e3sm_avgs.lev})\n",
    "\n",
    "e3sm_avgs[\"Avg_Retrieved_IWC_hybrid\"] = xr.DataArray(\n",
    "    data=IWC_array,\n",
    "    dims=[\"time\", \"lev\"],\n",
    "    coords={\"time\": e3sm_avgs.time.values, \"lev\": e3sm_avgs.lev})\n",
    "\n",
    "e3sm_avgs[\"pct_clear_hybrid\"] = xr.DataArray(data=clear_pct,\n",
    "    dims=[\"time\", \"lev\"],\n",
    "    coords={\"time\": e3sm_avgs.time.values, \"lev\": e3sm_avgs.lev})\n",
    "\n",
    "e3sm_avgs[\"Avg_Retrieved_LWC_hybrid\"] = e3sm_avgs[\"Avg_Retrieved_LWC_hybrid\"].where(\n",
    "   e3sm_avgs[\"Avg_Retrieved_LWC_hybrid\"] > 1e-4)\n",
    "e3sm_avgs[\"Avg_Retrieved_IWC_hybrid\"] = e3sm_avgs[\"Avg_Retrieved_IWC_hybrid\"].where(\n",
    "   e3sm_avgs[\"Avg_Retrieved_IWC_hybrid\"] > 1e-4)\n",
    "e3sm_avgs[\"mpc_occurrence_hybrid\"] = xr.where(np.logical_and(\n",
    "   e3sm_avgs[\"Avg_Retrieved_IWC_hybrid\"] > 1e-4, e3sm_avgs[\"Avg_Retrieved_LWC_hybrid\"] > 1e-4), 1 - e3sm_avgs[\"pct_clear_hybrid\"], 0)\n",
    "                                        \n",
    "e3sm_avgs[\"Avg_Retrieved_LWC_height\"] = xr.DataArray(\n",
    "    data=LWC_array_interp,\n",
    "    dims=[\"time\", \"height\"],\n",
    "    coords={\"time\": e3sm_avgs.time.values, \"height\": heights})\n",
    "\n",
    "e3sm_avgs[\"Avg_Retrieved_IWC_height\"] = xr.DataArray(\n",
    "    data=IWC_array_interp,\n",
    "    dims=[\"time\", \"height\"],\n",
    "    coords={\"time\": e3sm_avgs.time.values, \"height\": heights})\n",
    "\n",
    "e3sm_avgs[\"pct_clear_height\"] = xr.DataArray(data=clear_array_interp,\n",
    "    dims=[\"time\", \"height\"],\n",
    "    coords={\"time\": e3sm_avgs.time.values, \"height\": heights})\n",
    "\n",
    "e3sm_avgs[\"Avg_Retrieved_LWC_height\"] = e3sm_avgs[\"Avg_Retrieved_LWC_height\"].where(\n",
    "   e3sm_avgs[\"Avg_Retrieved_LWC_height\"] > 1e-4)\n",
    "e3sm_avgs[\"Avg_Retrieved_IWC_height\"] = e3sm_avgs[\"Avg_Retrieved_IWC_height\"].where(\n",
    "   e3sm_avgs[\"Avg_Retrieved_IWC_height\"] > 1e-4)\n",
    "e3sm_avgs[\"mpc_occurrence_height\"] = xr.where(np.logical_and(\n",
    "   e3sm_avgs[\"Avg_Retrieved_IWC_height\"] > 1e-4, e3sm_avgs[\"Avg_Retrieved_LWC_height\"] > 1e-4), 1 - e3sm_avgs[\"pct_clear_height\"], 0)\n",
    "                                        \n",
    "e3sm_avgs[\"pct_clear_height\"] = xr.DataArray(data=clear_array_interp,\n",
    "    dims=[\"time\", \"height\"],\n",
    "    coords={\"time\": e3sm_avgs.time.values, \"height\": heights}) \n",
    "e3sm_avgs[\"season\"] = e3sm_avgs[\"time\"].dt.season\n"
   ]
  },
  {
   "cell_type": "code",
   "execution_count": 19,
   "metadata": {},
   "outputs": [],
   "source": [
    "fig, ax = plt.subplots(4, 4, figsize=(12, 10))\n",
    "colors = ['b', 'g', 'k', 'r']\n",
    "i = 0\n",
    "def cluster_mean(x, cluster_no):\n",
    "    return x.where(x.cluster == cluster_no).mean(\"time\", skipna=True)\n",
    "\n",
    "for cluster in [1, 2, 3, 4]:\n",
    "    cmean = lambda x: cluster_mean(x, cluster)\n",
    "    e3sm_groupby = e3sm_avgs.groupby(\"season\").apply(cmean)\n",
    "    e3sm_groupby = e3sm_groupby.set_coords([\"season\", \"lev\"])\n",
    "    \n",
    "    for i, season in enumerate([\"DJF\", \"MAM\", \"JJA\", \"SON\"]):\n",
    "        e3sm_groupby['Avg_Retrieved_LWC_hybrid'].sel(season=season).T.plot(\n",
    "            ax=ax[i, 0], y=\"lev\", linewidth=2, label=str(cluster), color=colors[cluster - 1])\n",
    "\n",
    "        ax[i, 0].set_xlabel('LWC [g $m^{-3}$]')\n",
    "        ax[i, 0].set_ylabel('Hybrid height')\n",
    "        ax[i ,0].set_title('')\n",
    "        ax[i, 0].set_xlim([0, 0.1])\n",
    "        ax[i, 0].set_ylim([0, 1000])\n",
    "        ax[i, 0].invert_yaxis()\n",
    "        ax[i, 0].set_title(season)\n",
    "        ax[i, 0].legend()\n",
    "    \n",
    "        e3sm_groupby['Avg_Retrieved_IWC_hybrid'].sel(season=season).T.plot(\n",
    "            ax=ax[i, 1], y=\"lev\", linewidth=2, label=str(cluster), color=colors[cluster - 1])\n",
    "        ax[i, 1].set_xlabel('IWC [g $m^{-3}$]')\n",
    "        ax[i, 1].set_ylabel('Hybrid height')\n",
    "        ax[i, 1].set_title('')\n",
    "        ax[i, 1].set_ylim([0, 1000])\n",
    "        ax[i, 1].invert_yaxis()\n",
    "        ax[i, 1].set_xlim([0, 0.03])\n",
    "        ax[i, 1].set_title(season)\n",
    "\n",
    "        (1 - e3sm_groupby['pct_clear_hybrid']).sel(season=season).T.plot(\n",
    "            ax=ax[i, 2], y=\"lev\", linewidth=2, label=str(cluster), color=colors[cluster - 1])\n",
    "        ax[i, 2].set_xlabel('Cloud fraction')\n",
    "        ax[i, 2].set_ylabel('Hybrid height')\n",
    "        ax[i, 2].set_title('')\n",
    "        ax[i, 2].set_xlim([0, 1])\n",
    "        ax[i, 2].set_ylim([0, 1000])\n",
    "        ax[i, 2].invert_yaxis()\n",
    "        ax[i, 2].set_title(season)\n",
    "        \n",
    "        e3sm_groupby['mpc_occurrence_hybrid'].sel(season=season).T.plot(\n",
    "            ax=ax[i, 3], y=\"lev\", linewidth=2, label=str(cluster), color=colors[cluster - 1])\n",
    "        ax[i, 3].set_xlabel('MPC occurrence')\n",
    "        ax[i, 3].set_ylabel('Hybrid height')\n",
    "        ax[i, 3].set_title('')\n",
    "        ax[i, 3].set_ylim([0, 1000])\n",
    "        ax[i, 3].invert_yaxis()\n",
    "        ax[i, 3].set_xlim([0, 1])\n",
    "        ax[i, 3].set_title(season)\n",
    "fig.tight_layout()\n",
    "fig.savefig('mean_stats_lev.png', bbox_inches='tight')"
   ]
  },
  {
   "cell_type": "code",
   "execution_count": 35,
   "metadata": {},
   "outputs": [],
   "source": [
    "fig, ax = plt.subplots(4, 4, figsize=(12, 10))\n",
    "colors = ['b', 'g', 'k', 'r']\n",
    "i = 0\n",
    "def cluster_mean(x, cluster_no):\n",
    "    return x.where(x.cluster == cluster_no).mean(\"time\", skipna=True)\n",
    "\n",
    "for cluster in [1, 2, 3, 4]:\n",
    "    cmean = lambda x: cluster_mean(x, cluster)\n",
    "    e3sm_groupby = e3sm_avgs.groupby(\"season\").apply(cmean)\n",
    "    e3sm_groupby = e3sm_groupby.set_coords([\"season\", \"height\"])\n",
    "    \n",
    "    for i, season in enumerate([\"DJF\", \"MAM\", \"JJA\", \"SON\"]):\n",
    "        e3sm_groupby['Avg_Retrieved_LWC_height'].sel(season=season).T.plot(\n",
    "            ax=ax[i, 0], y=\"height\", label=str(cluster), linewidth=2, color=colors[cluster - 1])\n",
    "\n",
    "        ax[i, 0].set_xlabel('LWC [g $m^{-3}$]')\n",
    "        ax[i, 0].set_ylabel('Height [km]')\n",
    "        ax[i ,0].set_title('')\n",
    "        ax[i, 0].set_xlim([0, 0.1])\n",
    "        ax[i, 0].set_ylim([0, 10])\n",
    "        ax[i, 0].set_title(season)\n",
    "        ax[i, 0].legend()\n",
    "    \n",
    "        e3sm_groupby['Avg_Retrieved_IWC_height'].sel(season=season).T.plot(\n",
    "            ax=ax[i, 1], y=\"height\", label=str(cluster), linewidth=2, color=colors[cluster - 1])\n",
    "        ax[i, 1].set_xlabel('IWC [g $m^{-3}$]')\n",
    "        ax[i, 1].set_ylabel('Height [km]')\n",
    "        ax[i, 1].set_title('')\n",
    "        ax[i, 1].set_ylim([0, 10])\n",
    "        ax[i, 1].set_xlim([0, 0.03])\n",
    "        ax[i, 1].set_title(season)\n",
    "\n",
    "        (1 - e3sm_groupby['pct_clear_height']).sel(season=season).T.plot(\n",
    "            ax=ax[i, 2], y=\"height\", label=str(cluster), linewidth=2, color=colors[cluster - 1])\n",
    "        ax[i, 2].set_xlabel('Cloud fraction')\n",
    "        ax[i, 2].set_ylabel('Height [km]')\n",
    "        ax[i, 2].set_title('')\n",
    "        ax[i, 2].set_xlim([0, 1])\n",
    "        ax[i, 2].set_ylim([0, 10])\n",
    "        ax[i, 2].set_title(season)\n",
    "        \n",
    "        e3sm_groupby['mpc_occurrence_height'].sel(season=season).T.plot(\n",
    "            ax=ax[i, 3], y=\"height\", label=str(cluster), linewidth=2, color=colors[cluster - 1])\n",
    "        ax[i, 3].set_xlabel('MPC occurrence')\n",
    "        ax[i, 3].set_ylabel('Height [km]')\n",
    "        ax[i, 3].set_title('')\n",
    "        ax[i, 3].set_ylim([0, 10])\n",
    "        ax[i, 3].set_xlim([0, 1])\n",
    "        ax[i, 3].set_title(season)\n",
    "fig.tight_layout()\n",
    "fig.savefig('mean_stats_height_ln.png', bbox_inches='tight')"
   ]
  },
  {
   "cell_type": "code",
   "execution_count": 40,
   "metadata": {},
   "outputs": [
    {
     "data": {
      "text/plain": [
       "[<matplotlib.lines.Line2D at 0x2b30b75839d0>]"
      ]
     },
     "execution_count": 40,
     "metadata": {},
     "output_type": "execute_result"
    }
   ],
   "source": [
    "e3sm_avgs['Avg_Retrieved_IWC_height'].isel(time=0).plot()"
   ]
  },
  {
   "cell_type": "code",
   "execution_count": null,
   "metadata": {},
   "outputs": [],
   "source": []
  }
 ],
 "metadata": {
  "kernelspec": {
   "display_name": "pyart_bebop",
   "language": "python",
   "name": "python3"
  },
  "language_info": {
   "codemirror_mode": {
    "name": "ipython",
    "version": 3
   },
   "file_extension": ".py",
   "mimetype": "text/x-python",
   "name": "python",
   "nbconvert_exporter": "python",
   "pygments_lexer": "ipython3",
   "version": "3.10.10"
  },
  "orig_nbformat": 4
 },
 "nbformat": 4,
 "nbformat_minor": 2
}
